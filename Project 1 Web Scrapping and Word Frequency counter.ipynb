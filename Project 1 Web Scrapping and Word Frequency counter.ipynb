{
 "cells": [
  {
   "cell_type": "code",
   "execution_count": 1,
   "id": "0f180ef7",
   "metadata": {},
   "outputs": [],
   "source": [
    "import pandas as pd\n",
    "import numpy as np"
   ]
  },
  {
   "cell_type": "code",
   "execution_count": 2,
   "id": "4e50330c",
   "metadata": {},
   "outputs": [],
   "source": [
    "import requests"
   ]
  },
  {
   "cell_type": "code",
   "execution_count": 3,
   "id": "0afa95dc",
   "metadata": {},
   "outputs": [
    {
     "name": "stdout",
     "output_type": "stream",
     "text": [
      "Requirement already satisfied: requests in c:\\users\\prakhar\\anaconda3\\lib\\site-packages (2.28.1)\n",
      "Requirement already satisfied: certifi>=2017.4.17 in c:\\users\\prakhar\\anaconda3\\lib\\site-packages (from requests) (2022.12.7)\n",
      "Requirement already satisfied: charset-normalizer<3,>=2 in c:\\users\\prakhar\\anaconda3\\lib\\site-packages (from requests) (2.0.4)\n",
      "Requirement already satisfied: idna<4,>=2.5 in c:\\users\\prakhar\\anaconda3\\lib\\site-packages (from requests) (3.4)\n",
      "Requirement already satisfied: urllib3<1.27,>=1.21.1 in c:\\users\\prakhar\\anaconda3\\lib\\site-packages (from requests) (1.26.14)\n",
      "Note: you may need to restart the kernel to use updated packages.\n"
     ]
    }
   ],
   "source": [
    "pip install requests"
   ]
  },
  {
   "cell_type": "code",
   "execution_count": 4,
   "id": "6c4c1eb8",
   "metadata": {},
   "outputs": [],
   "source": [
    "url= 'https://www.python.org/'"
   ]
  },
  {
   "cell_type": "code",
   "execution_count": 5,
   "id": "e6830f97",
   "metadata": {},
   "outputs": [],
   "source": [
    "response= requests.get(url)"
   ]
  },
  {
   "cell_type": "code",
   "execution_count": 6,
   "id": "e62c5369",
   "metadata": {},
   "outputs": [],
   "source": [
    "html= response.text"
   ]
  },
  {
   "cell_type": "code",
   "execution_count": 8,
   "id": "bfcee639",
   "metadata": {},
   "outputs": [
    {
     "name": "stdout",
     "output_type": "stream",
     "text": [
      "Requirement already satisfied: beautifulsoup4 in c:\\users\\prakhar\\anaconda3\\lib\\site-packages (4.11.1)\n",
      "Requirement already satisfied: soupsieve>1.2 in c:\\users\\prakhar\\anaconda3\\lib\\site-packages (from beautifulsoup4) (2.3.2.post1)\n",
      "Note: you may need to restart the kernel to use updated packages.\n"
     ]
    }
   ],
   "source": [
    "pip install beautifulsoup4"
   ]
  },
  {
   "cell_type": "code",
   "execution_count": 9,
   "id": "5e658431",
   "metadata": {},
   "outputs": [],
   "source": [
    "from bs4 import BeautifulSoup"
   ]
  },
  {
   "cell_type": "code",
   "execution_count": 21,
   "id": "e9f37da2",
   "metadata": {},
   "outputs": [
    {
     "name": "stdout",
     "output_type": "stream",
     "text": [
      "latest_article in the python:\n",
      "1,Python 3.13.0 alpha 1 is now available\n",
      "2,Python 3.11.6 is now available\n",
      "3,Python 3.12.0 (final) now available\n",
      "4,Python Developers Survey Numbers for 2022!\n",
      "5,Python 3.12.0 release candidate 3 now available\n",
      "No Article Found\n"
     ]
    }
   ],
   "source": [
    "def get_latest_article():\n",
    "    url= 'https://www.python.org/'\n",
    "    response= requests.get(url)\n",
    "    \n",
    "    if response.status_code==200:\n",
    "        soup=BeautifulSoup(response.text,\"html.parser\")\n",
    "        latest_article=[]\n",
    "        \n",
    "        for article in soup.select('.blog-widget li'):\n",
    "            title= article.a.text.strip()\n",
    "            latest_article.append(title)\n",
    "        return latest_article\n",
    "    else:\n",
    "        \n",
    "        print(f\"failed to retrieve data.status code: {response.status_code}\")\n",
    "        return[]\n",
    "    \n",
    "if __name__==\"__main__\":\n",
    "    python_articles= get_latest_article()\n",
    "    \n",
    "    if python_articles:\n",
    "        print('latest_article in the python:')\n",
    "        for index, article in enumerate (python_articles,1):\n",
    "            print(f'{index},{article}')\n",
    "        else:\n",
    "            print(\"No Article Found\")\n",
    "    \n",
    "        \n",
    "        "
   ]
  },
  {
   "cell_type": "code",
   "execution_count": 23,
   "id": "a29ceffb",
   "metadata": {},
   "outputs": [],
   "source": [
    "from collections import Counter"
   ]
  },
  {
   "cell_type": "code",
   "execution_count": 24,
   "id": "38ab21c0",
   "metadata": {},
   "outputs": [],
   "source": [
    "import re"
   ]
  },
  {
   "cell_type": "code",
   "execution_count": 30,
   "id": "f6faf6e4",
   "metadata": {},
   "outputs": [],
   "source": [
    "def get_webpage_text(url):\n",
    "    response= requests.get(url)\n",
    "    \n",
    "    if response.status_code==200:\n",
    "        soup=BeautifulSoup(response.text,\"html.parser\")\n",
    "        text= ' '.join(soup.stripped_strings)\n",
    "        return text\n",
    "    else:\n",
    "        print(f\"failed to retrieve data.status code: {response.status_code}\")\n",
    "        return \"\""
   ]
  },
  {
   "cell_type": "code",
   "execution_count": 36,
   "id": "7fb7d578",
   "metadata": {},
   "outputs": [
    {
     "name": "stdout",
     "output_type": "stream",
     "text": [
      "Frequency word in python.org website:\n",
      "python,63\n",
      "the,25\n",
      "and,21\n",
      "3,18\n",
      "to,15\n",
      "for,15\n",
      "a,15\n",
      "of,14\n",
      "2023,14\n",
      "is,13\n",
      "news,11\n",
      "events,11\n",
      "more,11\n",
      "in,10\n",
      "community,9\n",
      "with,8\n",
      "psf,8\n",
      "s,8\n",
      "0,8\n",
      "10,8\n",
      "docs,7\n",
      "1,7\n",
      "code,6\n",
      "other,6\n",
      "guide,6\n",
      "lists,6\n",
      "software,6\n",
      "print,6\n",
      "product,6\n",
      "available,6\n",
      "your,5\n",
      "about,5\n",
      "stories,5\n",
      "development,5\n",
      "2,5\n",
      "functions,5\n",
      "programming,5\n",
      "list,5\n",
      "are,5\n",
      "that,5\n",
      "simple,5\n",
      "learn,5\n",
      "all,4\n",
      "developer,4\n",
      "user,4\n",
      "group,4\n",
      "archive,4\n",
      "n,4\n",
      "b,4\n",
      "5,4\n",
      "you,4\n",
      "name,4\n",
      "now,4\n",
      "org,3\n",
      "while,3\n",
      "be,3\n",
      "on,3\n",
      "jobs,3\n",
      "irc,3\n",
      "applications,3\n",
      "started,3\n",
      "help,3\n",
      "source,3\n",
      "documentation,3\n",
      "beginner,3\n",
      "diversity,3\n",
      "report,3\n",
      "get,3\n",
      "success,3\n",
      "scientific,3\n",
      "submit,3\n",
      "an,3\n",
      "8,3\n",
      "13,3\n",
      "21,3\n",
      "fruits,3\n",
      "banana,3\n",
      "apple,3\n",
      "lime,3\n",
      "can,3\n",
      "work,3\n",
      "numbers,3\n",
      "flow,3\n",
      "some,3\n",
      "i,3\n",
      "easy,3\n",
      "language,3\n",
      "our,3\n",
      "or,3\n",
      "12,3\n",
      "foundation,3\n",
      "javascript,2\n",
      "not,2\n",
      "this,2\n",
      "website,2\n",
      "content,2\n",
      "donate,2\n",
      "go,2\n",
      "quotes,2\n",
      "getting,2\n"
     ]
    }
   ],
   "source": [
    "def counting_word_frequency(text):\n",
    "    words= re.findall(r'\\w+', text.lower())\n",
    "    words_count= Counter(words)\n",
    "    return words_count\n",
    "\n",
    "if __name__==\"__main__\":\n",
    "    url= 'https://www.python.org/'\n",
    "    webpage_text= get_webpage_text(url)\n",
    "    \n",
    "    if webpage_text:\n",
    "        word_frequency= counting_word_frequency(webpage_text)\n",
    "        print('Frequency word in python.org website:')\n",
    "        for word, frequency in word_frequency.most_common(100):\n",
    "            print(f'{word},{frequency}')\n",
    "    else:\n",
    "        print('failed ')\n",
    "            "
   ]
  },
  {
   "cell_type": "code",
   "execution_count": null,
   "id": "3ed7bed9",
   "metadata": {},
   "outputs": [],
   "source": []
  },
  {
   "cell_type": "code",
   "execution_count": null,
   "id": "24e78199",
   "metadata": {},
   "outputs": [],
   "source": []
  },
  {
   "cell_type": "code",
   "execution_count": null,
   "id": "1bf5479b",
   "metadata": {},
   "outputs": [],
   "source": []
  },
  {
   "cell_type": "code",
   "execution_count": null,
   "id": "14d3faae",
   "metadata": {},
   "outputs": [],
   "source": []
  },
  {
   "cell_type": "code",
   "execution_count": null,
   "id": "b294dc53",
   "metadata": {},
   "outputs": [],
   "source": []
  },
  {
   "cell_type": "code",
   "execution_count": null,
   "id": "90440e7f",
   "metadata": {},
   "outputs": [],
   "source": []
  },
  {
   "cell_type": "code",
   "execution_count": null,
   "id": "4810fbe8",
   "metadata": {},
   "outputs": [],
   "source": []
  },
  {
   "cell_type": "code",
   "execution_count": null,
   "id": "40e30890",
   "metadata": {},
   "outputs": [],
   "source": []
  },
  {
   "cell_type": "code",
   "execution_count": null,
   "id": "e7298fac",
   "metadata": {},
   "outputs": [],
   "source": []
  },
  {
   "cell_type": "code",
   "execution_count": null,
   "id": "becfc475",
   "metadata": {},
   "outputs": [],
   "source": []
  },
  {
   "cell_type": "code",
   "execution_count": null,
   "id": "c6409d30",
   "metadata": {},
   "outputs": [],
   "source": []
  },
  {
   "cell_type": "code",
   "execution_count": null,
   "id": "69a9c622",
   "metadata": {},
   "outputs": [],
   "source": []
  },
  {
   "cell_type": "code",
   "execution_count": null,
   "id": "36348247",
   "metadata": {},
   "outputs": [],
   "source": []
  },
  {
   "cell_type": "code",
   "execution_count": null,
   "id": "dddf219c",
   "metadata": {},
   "outputs": [],
   "source": []
  },
  {
   "cell_type": "code",
   "execution_count": null,
   "id": "c5453b69",
   "metadata": {},
   "outputs": [],
   "source": []
  },
  {
   "cell_type": "code",
   "execution_count": null,
   "id": "77f95729",
   "metadata": {},
   "outputs": [],
   "source": []
  }
 ],
 "metadata": {
  "kernelspec": {
   "display_name": "Python 3 (ipykernel)",
   "language": "python",
   "name": "python3"
  },
  "language_info": {
   "codemirror_mode": {
    "name": "ipython",
    "version": 3
   },
   "file_extension": ".py",
   "mimetype": "text/x-python",
   "name": "python",
   "nbconvert_exporter": "python",
   "pygments_lexer": "ipython3",
   "version": "3.10.9"
  }
 },
 "nbformat": 4,
 "nbformat_minor": 5
}
